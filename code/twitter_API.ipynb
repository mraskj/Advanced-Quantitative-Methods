{
 "cells": [
  {
   "cell_type": "code",
   "execution_count": 1,
   "metadata": {},
   "outputs": [],
   "source": [
    "from tweepy import OAuthHandler\n",
    "import tweepy\n",
    "import pandas as pd"
   ]
  },
  {
   "cell_type": "code",
   "execution_count": 2,
   "metadata": {},
   "outputs": [],
   "source": [
    "# Twitter credentials\n",
    "# Obtain them from your twitter developer account\n",
    "\n",
    "consumer_key = ''\n",
    "consumer_secret = ''\n",
    "access_key = ''\n",
    "access_secret = ''\n",
    "\n",
    "# Pass your twitter credentials to tweepy via its OAuthHandler\n",
    "auth = OAuthHandler(consumer_key, consumer_secret)\n",
    "auth.set_access_token(access_key, access_secret)"
   ]
  },
  {
   "cell_type": "code",
   "execution_count": 3,
   "metadata": {},
   "outputs": [],
   "source": [
    "api = tweepy.API(auth, wait_on_rate_limit=True, wait_on_rate_limit_notify=True)"
   ]
  },
  {
   "cell_type": "code",
   "execution_count": 20,
   "metadata": {},
   "outputs": [],
   "source": [
    "legislators = ['RepDanBishop', 'RepKweisiMfume']"
   ]
  },
  {
   "cell_type": "code",
   "execution_count": 51,
   "metadata": {},
   "outputs": [
    {
     "name": "stdout",
     "output_type": "stream",
     "text": [
      "Extract tweets for RepDanBishop\n",
      "Extract tweets for RepKweisiMfume\n"
     ]
    }
   ],
   "source": [
    "tweets = []\n",
    "for l in legislators:\n",
    "    print(f\"Extract tweets for {l}\")\n",
    "    list_tweets = []\n",
    "    for status in tweepy.Cursor(api.user_timeline, screen_name=l, tweet_mode=\"extended\").items():\n",
    "        list_tweets.append(status._json)\n",
    "    tweets.append(list_tweets)"
   ]
  },
  {
   "cell_type": "code",
   "execution_count": 57,
   "metadata": {},
   "outputs": [],
   "source": [
    "save = tweets[1][0]['entities']\n",
    "keys = tweets[1][0]['entities'].keys()"
   ]
  },
  {
   "cell_type": "code",
   "execution_count": 65,
   "metadata": {},
   "outputs": [],
   "source": [
    "dfs = []\n",
    "for i in keys:\n",
    "    dfs.append(pd.DataFrame.from_dict(save[i]))"
   ]
  },
  {
   "cell_type": "code",
   "execution_count": 74,
   "metadata": {},
   "outputs": [
    {
     "data": {
      "text/plain": [
       "[{'id': 1325148901389660163,\n",
       "  'id_str': '1325148901389660163',\n",
       "  'indices': [196, 219],\n",
       "  'media_url': 'http://pbs.twimg.com/media/EmPf56XUcAMPXrh.png',\n",
       "  'media_url_https': 'https://pbs.twimg.com/media/EmPf56XUcAMPXrh.png',\n",
       "  'url': 'https://t.co/yrrQF49Iru',\n",
       "  'display_url': 'pic.twitter.com/yrrQF49Iru',\n",
       "  'expanded_url': 'https://twitter.com/RepKweisiMfume/status/1325148903931473922/photo/1',\n",
       "  'type': 'photo',\n",
       "  'sizes': {'medium': {'w': 700, 'h': 700, 'resize': 'fit'},\n",
       "   'small': {'w': 680, 'h': 680, 'resize': 'fit'},\n",
       "   'thumb': {'w': 150, 'h': 150, 'resize': 'crop'},\n",
       "   'large': {'w': 700, 'h': 700, 'resize': 'fit'}}}]"
      ]
     },
     "execution_count": 74,
     "metadata": {},
     "output_type": "execute_result"
    }
   ],
   "source": [
    "save['media']"
   ]
  },
  {
   "cell_type": "code",
   "execution_count": 78,
   "metadata": {},
   "outputs": [
    {
     "data": {
      "text/html": [
       "<div>\n",
       "<style scoped>\n",
       "    .dataframe tbody tr th:only-of-type {\n",
       "        vertical-align: middle;\n",
       "    }\n",
       "\n",
       "    .dataframe tbody tr th {\n",
       "        vertical-align: top;\n",
       "    }\n",
       "\n",
       "    .dataframe thead th {\n",
       "        text-align: right;\n",
       "    }\n",
       "</style>\n",
       "<table border=\"1\" class=\"dataframe\">\n",
       "  <thead>\n",
       "    <tr style=\"text-align: right;\">\n",
       "      <th></th>\n",
       "      <th>id</th>\n",
       "      <th>id_str</th>\n",
       "      <th>indices</th>\n",
       "      <th>media_url</th>\n",
       "      <th>media_url_https</th>\n",
       "      <th>url</th>\n",
       "      <th>display_url</th>\n",
       "      <th>expanded_url</th>\n",
       "      <th>type</th>\n",
       "      <th>sizes</th>\n",
       "    </tr>\n",
       "  </thead>\n",
       "  <tbody>\n",
       "    <tr>\n",
       "      <th>0</th>\n",
       "      <td>1325148901389660163</td>\n",
       "      <td>1325148901389660163</td>\n",
       "      <td>[196, 219]</td>\n",
       "      <td>http://pbs.twimg.com/media/EmPf56XUcAMPXrh.png</td>\n",
       "      <td>https://pbs.twimg.com/media/EmPf56XUcAMPXrh.png</td>\n",
       "      <td>https://t.co/yrrQF49Iru</td>\n",
       "      <td>pic.twitter.com/yrrQF49Iru</td>\n",
       "      <td>https://twitter.com/RepKweisiMfume/status/1325...</td>\n",
       "      <td>photo</td>\n",
       "      <td>{'medium': {'w': 700, 'h': 700, 'resize': 'fit...</td>\n",
       "    </tr>\n",
       "  </tbody>\n",
       "</table>\n",
       "</div>"
      ],
      "text/plain": [
       "                    id               id_str     indices  \\\n",
       "0  1325148901389660163  1325148901389660163  [196, 219]   \n",
       "\n",
       "                                        media_url  \\\n",
       "0  http://pbs.twimg.com/media/EmPf56XUcAMPXrh.png   \n",
       "\n",
       "                                   media_url_https                      url  \\\n",
       "0  https://pbs.twimg.com/media/EmPf56XUcAMPXrh.png  https://t.co/yrrQF49Iru   \n",
       "\n",
       "                  display_url  \\\n",
       "0  pic.twitter.com/yrrQF49Iru   \n",
       "\n",
       "                                        expanded_url   type  \\\n",
       "0  https://twitter.com/RepKweisiMfume/status/1325...  photo   \n",
       "\n",
       "                                               sizes  \n",
       "0  {'medium': {'w': 700, 'h': 700, 'resize': 'fit...  "
      ]
     },
     "execution_count": 78,
     "metadata": {},
     "output_type": "execute_result"
    }
   ],
   "source": [
    "dfs[4]"
   ]
  },
  {
   "cell_type": "code",
   "execution_count": 11,
   "metadata": {},
   "outputs": [
    {
     "name": "stdout",
     "output_type": "stream",
     "text": [
      "getting tweets before 1250415068694614015\n",
      "...400 tweets downloaded so far\n",
      "getting tweets before 1217916424901013509\n",
      "...464 tweets downloaded so far\n",
      "getting tweets before 1176566204384854017\n",
      "...464 tweets downloaded so far\n",
      "getting tweets before 1306350203964882950\n",
      "...60 tweets downloaded so far\n"
     ]
    }
   ],
   "source": [
    "all_tweets = []\n",
    "for legislator in legislators:\n",
    "    screen_name = legislator\n",
    "    \n",
    "    #initialize a list to hold all the tweepy Tweets\n",
    "    tweets = []  \n",
    "\n",
    "    #make initial request for most recent tweets (200 is the maximum allowed count)\n",
    "    new_tweets = api.user_timeline(screen_name = screen_name, count=200)\n",
    "    tweets.extend(new_tweets)\n",
    "\n",
    "    #save the id of the oldest tweet less one\n",
    "    oldest = tweets[-1].id - 1\n",
    "    all_tweets.append(tweets)\n",
    "    #keep grabbing tweets until there are no tweets left to grab\n",
    "    while len(new_tweets) > 0:\n",
    "        print(f\"getting tweets before {oldest}\")\n",
    "\n",
    "        #all subsiquent requests use the max_id param to prevent duplicates\n",
    "        new_tweets = api.user_timeline(screen_name = screen_name,count=200,\n",
    "                                       max_id=oldest, tweet_mode=\"extended\")\n",
    "\n",
    "        #save most recent tweets\n",
    "        tweets.extend(new_tweets)\n",
    "\n",
    "        #update the id of the oldest tweet less one\n",
    "        oldest = tweets[-1].id - 1\n",
    "\n",
    "        print(f\"...{len(tweets)} tweets downloaded so far\")\n",
    "    all_tweets.append(tweets)"
   ]
  },
  {
   "cell_type": "code",
   "execution_count": null,
   "metadata": {},
   "outputs": [],
   "source": [
    "screen_name = 'RepKweisiMfume'\n",
    "\n",
    "#initialize a list to hold all the tweepy Tweets\n",
    "alltweets = []  \n",
    "\n",
    "#make initial request for most recent tweets (200 is the maximum allowed count)\n",
    "new_tweets = api.user_timeline(screen_name = screen_name,count=200)\n",
    "\n",
    "#save most recent tweets\n",
    "alltweets.extend(new_tweets)\n",
    "\n",
    "#save the id of the oldest tweet less one\n",
    "oldest = alltweets[-1].id - 1\n",
    "\n",
    "#keep grabbing tweets until there are no tweets left to grab\n",
    "while len(new_tweets) > 0:\n",
    "    print(f\"getting tweets before {oldest}\")\n",
    "\n",
    "    #all subsiquent requests use the max_id param to prevent duplicates\n",
    "    new_tweets = api.user_timeline(screen_name = screen_name,count=200,max_id=oldest, tweet_mode=\"extended\")\n",
    "\n",
    "    #save most recent tweets\n",
    "    alltweets.extend(new_tweets)\n",
    "\n",
    "    #update the id of the oldest tweet less one\n",
    "    oldest = alltweets[-1].id - 1\n",
    "\n",
    "    print(f\"...{len(alltweets)} tweets downloaded so far\")"
   ]
  },
  {
   "cell_type": "markdown",
   "metadata": {},
   "source": [
    "# Multiple pictures - TEST"
   ]
  },
  {
   "cell_type": "code",
   "execution_count": null,
   "metadata": {},
   "outputs": [],
   "source": [
    "tweets = []\n",
    "for l in ['@Call_Me_Dutch']:\n",
    "    print(f\"Extract tweets for {l}\")\n",
    "    list_tweets = []\n",
    "    for status in tweepy.Cursor(api.user_timeline, screen_name=l, tweet_mode=\"extended\").items():\n",
    "        list_tweets.append(status._json)\n",
    "    tweets.append(list_tweets)"
   ]
  },
  {
   "cell_type": "markdown",
   "metadata": {},
   "source": [
    "There are a total of 29 overall keys in the dictionary. I keep the following variables:\n",
    "\n",
    "    - created_at\n",
    "    - id_str\n",
    "    - full_text\n",
    "    - display_text_range (to subset only the text and hashtag of the tweet and not the url)\n",
    "    - entities\n",
    "        - hashtag \n",
    "            - text\n",
    "\n",
    "Plan for clean up:\n",
    "    \n",
    "    - Keep only one user"
   ]
  },
  {
   "cell_type": "code",
   "execution_count": 30,
   "metadata": {},
   "outputs": [
    {
     "data": {
      "text/plain": [
       "\"Congrats to MIDN 1/C Sydney Barber on being selected as the @NavalAcademy's first Black female Brigade Commander! As Chairman of the Naval Academy Board of Visitors, I am thankful for MIDN Barber’s leadership + service+ excited for many to follow in her footsteps. #GoNavy\""
      ]
     },
     "execution_count": 30,
     "metadata": {},
     "output_type": "execute_result"
    }
   ],
   "source": [
    "list_tweets[10]['full_text'][0:272]"
   ]
  },
  {
   "cell_type": "code",
   "execution_count": 27,
   "metadata": {},
   "outputs": [
    {
     "name": "stdout",
     "output_type": "stream",
     "text": [
      "1 created_at Mon Nov 09 22:08:41 +0000 2020\n",
      "1 id 1325923290125307906\n",
      "1 id_str 1325923290125307906\n",
      "1 full_text Congrats to MIDN 1/C Sydney Barber on being selected as the @NavalAcademy's first Black female Brigade Commander! As Chairman of the Naval Academy Board of Visitors, I am thankful for MIDN Barber’s leadership + service+ excited for many to follow in her footsteps. #GoNavy https://t.co/ZJsk9Z3YBZ\n",
      "1 truncated False\n",
      "1 display_text_range [0, 272]\n",
      "1 entities {'hashtags': [{'text': 'GoNavy', 'indices': [265, 272]}], 'symbols': [], 'user_mentions': [{'screen_name': 'NavalAcademy', 'name': 'U.S. Naval Academy', 'id': 18090660, 'id_str': '18090660', 'indices': [60, 73]}], 'urls': [{'url': 'https://t.co/ZJsk9Z3YBZ', 'expanded_url': 'https://twitter.com/NavalAcademy/status/1325877428976308227', 'display_url': 'twitter.com/NavalAcademy/s…', 'indices': [273, 296]}]}\n",
      "1 source <a href=\"https://mobile.twitter.com\" rel=\"nofollow\">Twitter Web App</a>\n",
      "1 in_reply_to_status_id None\n",
      "1 in_reply_to_status_id_str None\n",
      "1 in_reply_to_user_id None\n",
      "1 in_reply_to_user_id_str None\n",
      "1 in_reply_to_screen_name None\n",
      "1 user {'id': 305620929, 'id_str': '305620929', 'name': 'Dutch Ruppersberger', 'screen_name': 'Call_Me_Dutch', 'location': 'Washington, DC', 'description': \"U.S. Congressman serving Maryland's 2nd District. Member of House Appropriations Committee. Loves all things Baltimore esp. the Ravens, Orioles and crabs.\", 'url': 'https://t.co/ICYlxLx1Rg', 'entities': {'url': {'urls': [{'url': 'https://t.co/ICYlxLx1Rg', 'expanded_url': 'http://dutch.house.gov', 'display_url': 'dutch.house.gov', 'indices': [0, 23]}]}, 'description': {'urls': []}}, 'protected': False, 'followers_count': 17302, 'friends_count': 2240, 'listed_count': 839, 'created_at': 'Thu May 26 14:39:08 +0000 2011', 'favourites_count': 1436, 'utc_offset': None, 'time_zone': None, 'geo_enabled': True, 'verified': True, 'statuses_count': 4780, 'lang': None, 'contributors_enabled': False, 'is_translator': False, 'is_translation_enabled': False, 'profile_background_color': '4A913C', 'profile_background_image_url': 'http://abs.twimg.com/images/themes/theme12/bg.gif', 'profile_background_image_url_https': 'https://abs.twimg.com/images/themes/theme12/bg.gif', 'profile_background_tile': True, 'profile_image_url': 'http://pbs.twimg.com/profile_images/1268189200786042882/-VpU5TNd_normal.jpg', 'profile_image_url_https': 'https://pbs.twimg.com/profile_images/1268189200786042882/-VpU5TNd_normal.jpg', 'profile_banner_url': 'https://pbs.twimg.com/profile_banners/305620929/1591194842', 'profile_link_color': '94D487', 'profile_sidebar_border_color': '000000', 'profile_sidebar_fill_color': '000000', 'profile_text_color': '000000', 'profile_use_background_image': True, 'has_extended_profile': False, 'default_profile': False, 'default_profile_image': False, 'following': False, 'follow_request_sent': False, 'notifications': False, 'translator_type': 'none'}\n",
      "1 geo None\n",
      "1 coordinates None\n",
      "1 place None\n",
      "1 contributors None\n",
      "1 is_quote_status True\n",
      "1 quoted_status_id 1325877428976308227\n",
      "1 quoted_status_id_str 1325877428976308227\n",
      "1 quoted_status_permalink {'url': 'https://t.co/ZJsk9Z3YBZ', 'expanded': 'https://twitter.com/NavalAcademy/status/1325877428976308227', 'display': 'twitter.com/NavalAcademy/s…'}\n",
      "1 quoted_status {'created_at': 'Mon Nov 09 19:06:27 +0000 2020', 'id': 1325877428976308227, 'id_str': '1325877428976308227', 'full_text': \"The Commandant of Midshipmen announced the spring semester MIDN leadership positions, Friday, Nov. 8, which includes the selection of #USNA's first African American female brigade commander, MIDN 1/C Sydney Barber, of Lake Forest, Ill. \\n\\nhttps://t.co/oxCWvjpnXZ https://t.co/neuaPMxFC1\", 'truncated': False, 'display_text_range': [0, 261], 'entities': {'hashtags': [{'text': 'USNA', 'indices': [134, 139]}], 'symbols': [], 'user_mentions': [], 'urls': [{'url': 'https://t.co/oxCWvjpnXZ', 'expanded_url': 'https://www.usna.edu/NewsCenter/2020/11/FIRST_BLACK_FEMALE_TO_LEAD_BRIGADE_OF_MIDSHIPMEN.php', 'display_url': 'usna.edu/NewsCenter/202…', 'indices': [238, 261]}], 'media': [{'id': 1325875554151784450, 'id_str': '1325875554151784450', 'indices': [262, 285], 'media_url': 'http://pbs.twimg.com/media/EmZ0yq2XYAIT39j.jpg', 'media_url_https': 'https://pbs.twimg.com/media/EmZ0yq2XYAIT39j.jpg', 'url': 'https://t.co/neuaPMxFC1', 'display_url': 'pic.twitter.com/neuaPMxFC1', 'expanded_url': 'https://twitter.com/NavalAcademy/status/1325877428976308227/photo/1', 'type': 'photo', 'sizes': {'thumb': {'w': 150, 'h': 150, 'resize': 'crop'}, 'medium': {'w': 960, 'h': 1200, 'resize': 'fit'}, 'small': {'w': 544, 'h': 680, 'resize': 'fit'}, 'large': {'w': 1638, 'h': 2048, 'resize': 'fit'}}}]}, 'extended_entities': {'media': [{'id': 1325875554151784450, 'id_str': '1325875554151784450', 'indices': [262, 285], 'media_url': 'http://pbs.twimg.com/media/EmZ0yq2XYAIT39j.jpg', 'media_url_https': 'https://pbs.twimg.com/media/EmZ0yq2XYAIT39j.jpg', 'url': 'https://t.co/neuaPMxFC1', 'display_url': 'pic.twitter.com/neuaPMxFC1', 'expanded_url': 'https://twitter.com/NavalAcademy/status/1325877428976308227/photo/1', 'type': 'photo', 'sizes': {'thumb': {'w': 150, 'h': 150, 'resize': 'crop'}, 'medium': {'w': 960, 'h': 1200, 'resize': 'fit'}, 'small': {'w': 544, 'h': 680, 'resize': 'fit'}, 'large': {'w': 1638, 'h': 2048, 'resize': 'fit'}}}, {'id': 1325875739544137728, 'id_str': '1325875739544137728', 'indices': [262, 285], 'media_url': 'http://pbs.twimg.com/media/EmZ09dfWMAA40Wa.jpg', 'media_url_https': 'https://pbs.twimg.com/media/EmZ09dfWMAA40Wa.jpg', 'url': 'https://t.co/neuaPMxFC1', 'display_url': 'pic.twitter.com/neuaPMxFC1', 'expanded_url': 'https://twitter.com/NavalAcademy/status/1325877428976308227/photo/1', 'type': 'photo', 'sizes': {'thumb': {'w': 150, 'h': 150, 'resize': 'crop'}, 'small': {'w': 680, 'h': 453, 'resize': 'fit'}, 'large': {'w': 2048, 'h': 1366, 'resize': 'fit'}, 'medium': {'w': 1200, 'h': 800, 'resize': 'fit'}}}]}, 'source': '<a href=\"https://mobile.twitter.com\" rel=\"nofollow\">Twitter Web App</a>', 'in_reply_to_status_id': None, 'in_reply_to_status_id_str': None, 'in_reply_to_user_id': None, 'in_reply_to_user_id_str': None, 'in_reply_to_screen_name': None, 'user': {'id': 18090660, 'id_str': '18090660', 'name': 'U.S. Naval Academy', 'screen_name': 'NavalAcademy', 'location': 'Annapolis, MD', 'description': 'Official Twitter account of #USNA. Dedicated to the #MoralMentalPhysical development of @USNavy #Midshipmen since 1845 (Following/RTs ≠ endorsement).', 'url': 'https://t.co/0qldZqsO6T', 'entities': {'url': {'urls': [{'url': 'https://t.co/0qldZqsO6T', 'expanded_url': 'http://www.usna.edu', 'display_url': 'usna.edu', 'indices': [0, 23]}]}, 'description': {'urls': []}}, 'protected': False, 'followers_count': 77458, 'friends_count': 141, 'listed_count': 458, 'created_at': 'Sat Dec 13 01:11:30 +0000 2008', 'favourites_count': 1238, 'utc_offset': None, 'time_zone': None, 'geo_enabled': True, 'verified': False, 'statuses_count': 3972, 'lang': None, 'contributors_enabled': False, 'is_translator': False, 'is_translation_enabled': False, 'profile_background_color': '000000', 'profile_background_image_url': 'http://abs.twimg.com/images/themes/theme1/bg.png', 'profile_background_image_url_https': 'https://abs.twimg.com/images/themes/theme1/bg.png', 'profile_background_tile': False, 'profile_image_url': 'http://pbs.twimg.com/profile_images/1272618528340873222/DX8H3AQS_normal.jpg', 'profile_image_url_https': 'https://pbs.twimg.com/profile_images/1272618528340873222/DX8H3AQS_normal.jpg', 'profile_banner_url': 'https://pbs.twimg.com/profile_banners/18090660/1580333863', 'profile_link_color': '0084B4', 'profile_sidebar_border_color': 'C0DEED', 'profile_sidebar_fill_color': 'DDEEF6', 'profile_text_color': '333333', 'profile_use_background_image': True, 'has_extended_profile': True, 'default_profile': False, 'default_profile_image': False, 'following': False, 'follow_request_sent': False, 'notifications': False, 'translator_type': 'none'}, 'geo': None, 'coordinates': None, 'place': None, 'contributors': None, 'is_quote_status': False, 'retweet_count': 286, 'favorite_count': 1398, 'favorited': False, 'retweeted': False, 'possibly_sensitive': False, 'lang': 'en'}\n",
      "1 retweet_count 5\n",
      "1 favorite_count 18\n",
      "1 favorited False\n",
      "1 retweeted False\n",
      "1 possibly_sensitive False\n",
      "1 lang en\n"
     ]
    }
   ],
   "source": [
    "for key in list_tweets[10].keys():\n",
    "    print(1, key, list_tweets[10][key])"
   ]
  },
  {
   "cell_type": "code",
   "execution_count": 96,
   "metadata": {},
   "outputs": [
    {
     "data": {
      "text/plain": [
       "2"
      ]
     },
     "execution_count": 96,
     "metadata": {},
     "output_type": "execute_result"
    }
   ],
   "source": [
    "# example of how to get both pictures in the tweet\n",
    "#list_tweets[10]['quoted_status']['extended_entities']['media']"
   ]
  },
  {
   "cell_type": "code",
   "execution_count": 25,
   "metadata": {},
   "outputs": [
    {
     "data": {
      "text/plain": [
       "dict_keys(['created_at', 'id', 'id_str', 'full_text', 'truncated', 'display_text_range', 'entities', 'source', 'in_reply_to_status_id', 'in_reply_to_status_id_str', 'in_reply_to_user_id', 'in_reply_to_user_id_str', 'in_reply_to_screen_name', 'user', 'geo', 'coordinates', 'place', 'contributors', 'is_quote_status', 'quoted_status_id', 'quoted_status_id_str', 'quoted_status_permalink', 'quoted_status', 'retweet_count', 'favorite_count', 'favorited', 'retweeted', 'possibly_sensitive', 'lang'])"
      ]
     },
     "execution_count": 25,
     "metadata": {},
     "output_type": "execute_result"
    }
   ],
   "source": [
    "# there are 29 overall keys for each post\n",
    "list_tweets[10].keys()"
   ]
  },
  {
   "cell_type": "code",
   "execution_count": 15,
   "metadata": {},
   "outputs": [],
   "source": [
    "keys10 = list_tweets[10]['user'].keys()\n",
    "keys1 = list_tweets[-1]['user'].keys()"
   ]
  },
  {
   "cell_type": "code",
   "execution_count": 22,
   "metadata": {},
   "outputs": [
    {
     "data": {
      "text/plain": [
       "{'id': 305620929,\n",
       " 'id_str': '305620929',\n",
       " 'name': 'Dutch Ruppersberger',\n",
       " 'screen_name': 'Call_Me_Dutch',\n",
       " 'location': 'Washington, DC',\n",
       " 'description': \"U.S. Congressman serving Maryland's 2nd District. Member of House Appropriations Committee. Loves all things Baltimore esp. the Ravens, Orioles and crabs.\",\n",
       " 'url': 'https://t.co/ICYlxLx1Rg',\n",
       " 'entities': {'url': {'urls': [{'url': 'https://t.co/ICYlxLx1Rg',\n",
       "     'expanded_url': 'http://dutch.house.gov',\n",
       "     'display_url': 'dutch.house.gov',\n",
       "     'indices': [0, 23]}]},\n",
       "  'description': {'urls': []}},\n",
       " 'protected': False,\n",
       " 'followers_count': 17302,\n",
       " 'friends_count': 2240,\n",
       " 'listed_count': 839,\n",
       " 'created_at': 'Thu May 26 14:39:08 +0000 2011',\n",
       " 'favourites_count': 1436,\n",
       " 'utc_offset': None,\n",
       " 'time_zone': None,\n",
       " 'geo_enabled': True,\n",
       " 'verified': True,\n",
       " 'statuses_count': 4780,\n",
       " 'lang': None,\n",
       " 'contributors_enabled': False,\n",
       " 'is_translator': False,\n",
       " 'is_translation_enabled': False,\n",
       " 'profile_background_color': '4A913C',\n",
       " 'profile_background_image_url': 'http://abs.twimg.com/images/themes/theme12/bg.gif',\n",
       " 'profile_background_image_url_https': 'https://abs.twimg.com/images/themes/theme12/bg.gif',\n",
       " 'profile_background_tile': True,\n",
       " 'profile_image_url': 'http://pbs.twimg.com/profile_images/1268189200786042882/-VpU5TNd_normal.jpg',\n",
       " 'profile_image_url_https': 'https://pbs.twimg.com/profile_images/1268189200786042882/-VpU5TNd_normal.jpg',\n",
       " 'profile_banner_url': 'https://pbs.twimg.com/profile_banners/305620929/1591194842',\n",
       " 'profile_link_color': '94D487',\n",
       " 'profile_sidebar_border_color': '000000',\n",
       " 'profile_sidebar_fill_color': '000000',\n",
       " 'profile_text_color': '000000',\n",
       " 'profile_use_background_image': True,\n",
       " 'has_extended_profile': False,\n",
       " 'default_profile': False,\n",
       " 'default_profile_image': False,\n",
       " 'following': False,\n",
       " 'follow_request_sent': False,\n",
       " 'notifications': False,\n",
       " 'translator_type': 'none'}"
      ]
     },
     "execution_count": 22,
     "metadata": {},
     "output_type": "execute_result"
    }
   ],
   "source": [
    "list_tweets[-1]['user']"
   ]
  },
  {
   "cell_type": "code",
   "execution_count": 23,
   "metadata": {},
   "outputs": [
    {
     "data": {
      "text/plain": [
       "{'id': 305620929,\n",
       " 'id_str': '305620929',\n",
       " 'name': 'Dutch Ruppersberger',\n",
       " 'screen_name': 'Call_Me_Dutch',\n",
       " 'location': 'Washington, DC',\n",
       " 'description': \"U.S. Congressman serving Maryland's 2nd District. Member of House Appropriations Committee. Loves all things Baltimore esp. the Ravens, Orioles and crabs.\",\n",
       " 'url': 'https://t.co/ICYlxLx1Rg',\n",
       " 'entities': {'url': {'urls': [{'url': 'https://t.co/ICYlxLx1Rg',\n",
       "     'expanded_url': 'http://dutch.house.gov',\n",
       "     'display_url': 'dutch.house.gov',\n",
       "     'indices': [0, 23]}]},\n",
       "  'description': {'urls': []}},\n",
       " 'protected': False,\n",
       " 'followers_count': 17302,\n",
       " 'friends_count': 2240,\n",
       " 'listed_count': 839,\n",
       " 'created_at': 'Thu May 26 14:39:08 +0000 2011',\n",
       " 'favourites_count': 1436,\n",
       " 'utc_offset': None,\n",
       " 'time_zone': None,\n",
       " 'geo_enabled': True,\n",
       " 'verified': True,\n",
       " 'statuses_count': 4780,\n",
       " 'lang': None,\n",
       " 'contributors_enabled': False,\n",
       " 'is_translator': False,\n",
       " 'is_translation_enabled': False,\n",
       " 'profile_background_color': '4A913C',\n",
       " 'profile_background_image_url': 'http://abs.twimg.com/images/themes/theme12/bg.gif',\n",
       " 'profile_background_image_url_https': 'https://abs.twimg.com/images/themes/theme12/bg.gif',\n",
       " 'profile_background_tile': True,\n",
       " 'profile_image_url': 'http://pbs.twimg.com/profile_images/1268189200786042882/-VpU5TNd_normal.jpg',\n",
       " 'profile_image_url_https': 'https://pbs.twimg.com/profile_images/1268189200786042882/-VpU5TNd_normal.jpg',\n",
       " 'profile_banner_url': 'https://pbs.twimg.com/profile_banners/305620929/1591194842',\n",
       " 'profile_link_color': '94D487',\n",
       " 'profile_sidebar_border_color': '000000',\n",
       " 'profile_sidebar_fill_color': '000000',\n",
       " 'profile_text_color': '000000',\n",
       " 'profile_use_background_image': True,\n",
       " 'has_extended_profile': False,\n",
       " 'default_profile': False,\n",
       " 'default_profile_image': False,\n",
       " 'following': False,\n",
       " 'follow_request_sent': False,\n",
       " 'notifications': False,\n",
       " 'translator_type': 'none'}"
      ]
     },
     "execution_count": 23,
     "metadata": {},
     "output_type": "execute_result"
    }
   ],
   "source": [
    "list_tweets[10]['user']"
   ]
  },
  {
   "cell_type": "code",
   "execution_count": null,
   "metadata": {},
   "outputs": [],
   "source": []
  }
 ],
 "metadata": {
  "kernelspec": {
   "display_name": "Python 3",
   "language": "python",
   "name": "python3"
  },
  "language_info": {
   "codemirror_mode": {
    "name": "ipython",
    "version": 3
   },
   "file_extension": ".py",
   "mimetype": "text/x-python",
   "name": "python",
   "nbconvert_exporter": "python",
   "pygments_lexer": "ipython3",
   "version": "3.6.11"
  }
 },
 "nbformat": 4,
 "nbformat_minor": 4
}
