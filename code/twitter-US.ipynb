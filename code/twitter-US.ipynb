{
 "cells": [
  {
   "cell_type": "code",
   "execution_count": 3,
   "metadata": {},
   "outputs": [],
   "source": [
    "# import libs\n",
    "from bs4 import BeautifulSoup as bs\n",
    "import urllib.request as requests\n",
    "import pandas as pd\n",
    "import numpy as np\n",
    "import os\n",
    "import re"
   ]
  },
  {
   "cell_type": "code",
   "execution_count": 4,
   "metadata": {},
   "outputs": [],
   "source": [
    "# set directory\n",
    "os.chdir(\"/Users/mathiasrask/Desktop/kandidat/E2020/AQM/\")"
   ]
  },
  {
   "cell_type": "code",
   "execution_count": 8,
   "metadata": {},
   "outputs": [],
   "source": [
    "# load data\n",
    "datatype = {\"lis\": str, \"thomas\":str ,\"ballotpedia\":str ,\"cspan\": str,\n",
    "            \"official_full\": str, \"opensecrets\": str, \"url\":str,\n",
    "            \"fec\": str, \"state_rank\": str, \"district\":str, \n",
    "            'icpsr':str, 'wikidata':str, 'google_entity_id':str,\n",
    "            \"house_history\":str, \"votesmart\":str, \"govtrack\":str,\n",
    "            \"thomas\":str, \"govtrack\":str, \"twitter_id\":str,\n",
    "            'instagram_id':str, 'youtube_id':str, 'youtube':str,\n",
    "            'facebook':str, 'twitter':str, 'instagram': str}\n",
    "\n",
    "df = pd.read_csv('data/all-legislators-US.csv', dtype=datatype)"
   ]
  },
  {
   "cell_type": "code",
   "execution_count": 55,
   "metadata": {},
   "outputs": [],
   "source": [
    "# keep only one row for each legislator with non-missing twitter-account\n",
    "twitter_accounts = df[df['twitter'].notnull()][['bioguide', 'twitter']]\n",
    "twitter_accounts.drop_duplicates(keep='first', inplace=True)"
   ]
  },
  {
   "cell_type": "code",
   "execution_count": 59,
   "metadata": {},
   "outputs": [
    {
     "data": {
      "text/html": [
       "<div>\n",
       "<style scoped>\n",
       "    .dataframe tbody tr th:only-of-type {\n",
       "        vertical-align: middle;\n",
       "    }\n",
       "\n",
       "    .dataframe tbody tr th {\n",
       "        vertical-align: top;\n",
       "    }\n",
       "\n",
       "    .dataframe thead th {\n",
       "        text-align: right;\n",
       "    }\n",
       "</style>\n",
       "<table border=\"1\" class=\"dataframe\">\n",
       "  <thead>\n",
       "    <tr style=\"text-align: right;\">\n",
       "      <th></th>\n",
       "      <th>bioguide</th>\n",
       "      <th>twitter</th>\n",
       "    </tr>\n",
       "  </thead>\n",
       "  <tbody>\n",
       "    <tr>\n",
       "      <th>0</th>\n",
       "      <td>B000944</td>\n",
       "      <td>SenSherrodBrown</td>\n",
       "    </tr>\n",
       "    <tr>\n",
       "      <th>10</th>\n",
       "      <td>C000127</td>\n",
       "      <td>SenatorCantwell</td>\n",
       "    </tr>\n",
       "    <tr>\n",
       "      <th>15</th>\n",
       "      <td>C000141</td>\n",
       "      <td>SenatorCardin</td>\n",
       "    </tr>\n",
       "    <tr>\n",
       "      <th>28</th>\n",
       "      <td>C000174</td>\n",
       "      <td>SenatorCarper</td>\n",
       "    </tr>\n",
       "    <tr>\n",
       "      <th>37</th>\n",
       "      <td>C001070</td>\n",
       "      <td>SenBobCasey</td>\n",
       "    </tr>\n",
       "    <tr>\n",
       "      <th>...</th>\n",
       "      <td>...</td>\n",
       "      <td>...</td>\n",
       "    </tr>\n",
       "    <tr>\n",
       "      <th>2752</th>\n",
       "      <td>B001311</td>\n",
       "      <td>RepDanBishop</td>\n",
       "    </tr>\n",
       "    <tr>\n",
       "      <th>2753</th>\n",
       "      <td>M001210</td>\n",
       "      <td>RepGregMurphy</td>\n",
       "    </tr>\n",
       "    <tr>\n",
       "      <th>2754</th>\n",
       "      <td>L000594</td>\n",
       "      <td>SenatorLoeffler</td>\n",
       "    </tr>\n",
       "    <tr>\n",
       "      <th>2755</th>\n",
       "      <td>M000687</td>\n",
       "      <td>RepKweisiMfume</td>\n",
       "    </tr>\n",
       "    <tr>\n",
       "      <th>2761</th>\n",
       "      <td>G000061</td>\n",
       "      <td>repmikegarcia</td>\n",
       "    </tr>\n",
       "  </tbody>\n",
       "</table>\n",
       "<p>529 rows × 2 columns</p>\n",
       "</div>"
      ],
      "text/plain": [
       "     bioguide          twitter\n",
       "0     B000944  SenSherrodBrown\n",
       "10    C000127  SenatorCantwell\n",
       "15    C000141    SenatorCardin\n",
       "28    C000174    SenatorCarper\n",
       "37    C001070      SenBobCasey\n",
       "...       ...              ...\n",
       "2752  B001311     RepDanBishop\n",
       "2753  M001210    RepGregMurphy\n",
       "2754  L000594  SenatorLoeffler\n",
       "2755  M000687   RepKweisiMfume\n",
       "2761  G000061    repmikegarcia\n",
       "\n",
       "[529 rows x 2 columns]"
      ]
     },
     "execution_count": 59,
     "metadata": {},
     "output_type": "execute_result"
    }
   ],
   "source": [
    "twitter_accounts"
   ]
  },
  {
   "cell_type": "code",
   "execution_count": null,
   "metadata": {},
   "outputs": [],
   "source": [
    "['RepDanBishop', 'RepKweisiMfume']"
   ]
  },
  {
   "cell_type": "code",
   "execution_count": 63,
   "metadata": {},
   "outputs": [
    {
     "data": {
      "text/html": [
       "<div>\n",
       "<style scoped>\n",
       "    .dataframe tbody tr th:only-of-type {\n",
       "        vertical-align: middle;\n",
       "    }\n",
       "\n",
       "    .dataframe tbody tr th {\n",
       "        vertical-align: top;\n",
       "    }\n",
       "\n",
       "    .dataframe thead th {\n",
       "        text-align: right;\n",
       "    }\n",
       "</style>\n",
       "<table border=\"1\" class=\"dataframe\">\n",
       "  <thead>\n",
       "    <tr style=\"text-align: right;\">\n",
       "      <th></th>\n",
       "      <th>bioguide</th>\n",
       "      <th>start</th>\n",
       "      <th>end</th>\n",
       "    </tr>\n",
       "  </thead>\n",
       "  <tbody>\n",
       "    <tr>\n",
       "      <th>2755</th>\n",
       "      <td>M000687</td>\n",
       "      <td>'1987-01-06'</td>\n",
       "      <td>'1989-01-03'</td>\n",
       "    </tr>\n",
       "    <tr>\n",
       "      <th>2756</th>\n",
       "      <td>M000687</td>\n",
       "      <td>'1989-01-03'</td>\n",
       "      <td>'1991-01-03'</td>\n",
       "    </tr>\n",
       "    <tr>\n",
       "      <th>2757</th>\n",
       "      <td>M000687</td>\n",
       "      <td>'1991-01-03'</td>\n",
       "      <td>'1993-01-03'</td>\n",
       "    </tr>\n",
       "    <tr>\n",
       "      <th>2758</th>\n",
       "      <td>M000687</td>\n",
       "      <td>'1993-01-05'</td>\n",
       "      <td>'1995-01-03'</td>\n",
       "    </tr>\n",
       "    <tr>\n",
       "      <th>2759</th>\n",
       "      <td>M000687</td>\n",
       "      <td>'1995-01-04'</td>\n",
       "      <td>'1996-02-18'</td>\n",
       "    </tr>\n",
       "    <tr>\n",
       "      <th>2760</th>\n",
       "      <td>M000687</td>\n",
       "      <td>'2020-05-05'</td>\n",
       "      <td>'2021-01-03'</td>\n",
       "    </tr>\n",
       "  </tbody>\n",
       "</table>\n",
       "</div>"
      ],
      "text/plain": [
       "     bioguide         start           end\n",
       "2755  M000687  '1987-01-06'  '1989-01-03'\n",
       "2756  M000687  '1989-01-03'  '1991-01-03'\n",
       "2757  M000687  '1991-01-03'  '1993-01-03'\n",
       "2758  M000687  '1993-01-05'  '1995-01-03'\n",
       "2759  M000687  '1995-01-04'  '1996-02-18'\n",
       "2760  M000687  '2020-05-05'  '2021-01-03'"
      ]
     },
     "execution_count": 63,
     "metadata": {},
     "output_type": "execute_result"
    }
   ],
   "source": [
    "df[df['bioguide']=='M000687'][['bioguide','start','end']]"
   ]
  },
  {
   "cell_type": "code",
   "execution_count": null,
   "metadata": {},
   "outputs": [],
   "source": []
  }
 ],
 "metadata": {
  "kernelspec": {
   "display_name": "Python 3",
   "language": "python",
   "name": "python3"
  },
  "language_info": {
   "codemirror_mode": {
    "name": "ipython",
    "version": 3
   },
   "file_extension": ".py",
   "mimetype": "text/x-python",
   "name": "python",
   "nbconvert_exporter": "python",
   "pygments_lexer": "ipython3",
   "version": "3.6.11"
  }
 },
 "nbformat": 4,
 "nbformat_minor": 4
}
